{
 "cells": [
  {
   "cell_type": "code",
   "execution_count": null,
   "id": "45d69f09-0d67-4254-aa30-e959f9aab5c9",
   "metadata": {},
   "outputs": [],
   "source": [
    "from web3 import Web3\n",
    "\n",
    "# Connect to Ethereum network (e.g., via Infura)\n",
    "infura_url = 'https://eth-mainnet.g.alchemy.com/v2/_pNtrtwYYfvjg8hpyRFPXBSbsv4l7N5z'\n",
    "web3 = Web3(Web3.HTTPProvider(infura_url))\n",
    "\n",
    "# Check if connected to blockchain\n",
    "if web3.is_connected():\n",
    "    print(\"Connected to blockchain\")\n",
    "else:\n",
    "    print(\"Failed to connect\")\n",
    "\n",
    "# Protocol's smart contract details (Replace with actual details of the chosen protocol)\n",
    "contract_address = '0x83e2BE8d114F9661221384B3a50d24B96a5653F5'\n",
    "contract_abi = [{\"constant\":True,\"inputs\":[],\"name\":\"name\",\"outputs\":[{\"name\":\"_name\",\"type\":\"string\"}],\"payable\":False,\"stateMutability\":\"view\",\"type\":\"function\"},{\"constant\":False,\"inputs\":[{\"name\":\"_spender\",\"type\":\"address\"},{\"name\":\"_value\",\"type\":\"uint256\"}],\"name\":\"approve\",\"outputs\":[{\"name\":\"_success\",\"type\":\"bool\"}],\"payable\":False,\"stateMutability\":\"nonpayable\",\"type\":\"function\"},{\"constant\":True,\"inputs\":[],\"name\":\"totalSupply\",\"outputs\":[{\"name\":\"_totalSupply\",\"type\":\"uint256\"}],\"payable\":False,\"stateMutability\":\"view\",\"type\":\"function\"},{\"constant\":False,\"inputs\":[{\"name\":\"crowdsaleAddr\",\"type\":\"address\"}],\"name\":\"setCrowdsaleAddress\",\"outputs\":[],\"payable\":False,\"stateMutability\":\"nonpayable\",\"type\":\"function\"},{\"constant\":False,\"inputs\":[{\"name\":\"_from\",\"type\":\"address\"},{\"name\":\"_to\",\"type\":\"address\"},{\"name\":\"_value\",\"type\":\"uint256\"}],\"name\":\"transferFrom\",\"outputs\":[{\"name\":\"_success\",\"type\":\"bool\"}],\"payable\":False,\"stateMutability\":\"nonpayable\",\"type\":\"function\"},{\"constant\":True,\"inputs\":[],\"name\":\"decimals\",\"outputs\":[{\"name\":\"_decimals\",\"type\":\"uint8\"}],\"payable\":False,\"stateMutability\":\"view\",\"type\":\"function\"},{\"constant\":True,\"inputs\":[],\"name\":\"crowdsaleAddress\",\"outputs\":[{\"name\":\"\",\"type\":\"address\"}],\"payable\":False,\"stateMutability\":\"view\",\"type\":\"function\"},{\"constant\":False,\"inputs\":[{\"name\":\"_value\",\"type\":\"uint256\"}],\"name\":\"burn\",\"outputs\":[],\"payable\":False,\"stateMutability\":\"nonpayable\",\"type\":\"function\"},{\"constant\":False,\"inputs\":[],\"name\":\"claimOwnership\",\"outputs\":[],\"payable\":False,\"stateMutability\":\"nonpayable\",\"type\":\"function\"},{\"constant\":True,\"inputs\":[{\"name\":\"_owner\",\"type\":\"address\"}],\"name\":\"balanceOf\",\"outputs\":[{\"name\":\"_balance\",\"type\":\"uint256\"}],\"payable\":False,\"stateMutability\":\"view\",\"type\":\"function\"},{\"constant\":True,\"inputs\":[],\"name\":\"owner\",\"outputs\":[{\"name\":\"\",\"type\":\"address\"}],\"payable\":False,\"stateMutability\":\"view\",\"type\":\"function\"},{\"constant\":True,\"inputs\":[],\"name\":\"symbol\",\"outputs\":[{\"name\":\"_symbol\",\"type\":\"string\"}],\"payable\":False,\"stateMutability\":\"view\",\"type\":\"function\"},{\"constant\":False,\"inputs\":[{\"name\":\"_to\",\"type\":\"address\"},{\"name\":\"_value\",\"type\":\"uint256\"}],\"name\":\"transfer\",\"outputs\":[{\"name\":\"_success\",\"type\":\"bool\"}],\"payable\":False,\"stateMutability\":\"nonpayable\",\"type\":\"function\"},{\"constant\":True,\"inputs\":[{\"name\":\"_owner\",\"type\":\"address\"},{\"name\":\"_spender\",\"type\":\"address\"}],\"name\":\"allowance\",\"outputs\":[{\"name\":\"_remaining\",\"type\":\"uint256\"}],\"payable\":False,\"stateMutability\":\"view\",\"type\":\"function\"},{\"constant\":True,\"inputs\":[],\"name\":\"pendingOwner\",\"outputs\":[{\"name\":\"\",\"type\":\"address\"}],\"payable\":False,\"stateMutability\":\"view\",\"type\":\"function\"},{\"constant\":False,\"inputs\":[],\"name\":\"enableTransfer\",\"outputs\":[],\"payable\":False,\"stateMutability\":\"nonpayable\",\"type\":\"function\"},{\"constant\":False,\"inputs\":[{\"name\":\"_newOwner\",\"type\":\"address\"}],\"name\":\"transferOwnership\",\"outputs\":[],\"payable\":False,\"stateMutability\":\"nonpayable\",\"type\":\"function\"},{\"inputs\":[],\"payable\":False,\"stateMutability\":\"nonpayable\",\"type\":\"constructor\"},{\"anonymous\":False,\"inputs\":[{\"indexed\":True,\"name\":\"_burner\",\"type\":\"address\"},{\"indexed\":False,\"name\":\"_value\",\"type\":\"uint256\"}],\"name\":\"Burn\",\"type\":\"event\"},{\"anonymous\":False,\"inputs\":[{\"indexed\":True,\"name\":\"previousOwner\",\"type\":\"address\"},{\"indexed\":True,\"name\":\"newOwner\",\"type\":\"address\"}],\"name\":\"OwnershipTransferred\",\"type\":\"event\"},{\"anonymous\":False,\"inputs\":[{\"indexed\":True,\"name\":\"_from\",\"type\":\"address\"},{\"indexed\":True,\"name\":\"_to\",\"type\":\"address\"},{\"indexed\":False,\"name\":\"_value\",\"type\":\"uint256\"}],\"name\":\"Transfer\",\"type\":\"event\"},{\"anonymous\":False,\"inputs\":[{\"indexed\":True,\"name\":\"_owner\",\"type\":\"address\"},{\"indexed\":True,\"name\":\"_spender\",\"type\":\"address\"},{\"indexed\":False,\"name\":\"_value\",\"type\":\"uint256\"}],\"name\":\"Approval\",\"type\":\"event\"}]\n",
    "\n",
    "\n",
    "# Create contract object\n",
    "contract = web3.eth.contract(address=contract_address, abi=contract_abi)\n",
    "\n",
    "# Metamask wallet private key (NEVER share or expose this key publicly)\n",
    "private_key = '0xcda13560ca2f4ad5fed6d872441a9d8b093966598a63cd91edc1d5c2996c37c3'\n",
    "account_address = '0x83F8231fB79c42eD6a6a3AA8EBE90Fd273f5DC65'\n",
    "\n",
    "# Function to farm tokens (example function, replace with actual farming function)\n",
    "def farm_tokens():\n",
    "    nonce = web3.eth.get_transaction_count(account_address)\n",
    "    txn_dict = contract.functions.claimOwnership().build_transaction({\n",
    "        'chainId': 1,  # Ethereum Mainnet\n",
    "        'gas': 2000000,\n",
    "        'gasPrice': web3.to_wei('50', 'gwei'),\n",
    "        'nonce': nonce,\n",
    "    })\n",
    "    signed_txn = web3.eth.account.sign_transaction(txn_dict, private_key=private_key)\n",
    "    txn_hash = web3.eth.send_raw_transaction(signed_txn.rawTransaction)\n",
    "    txn_receipt = web3.eth.waitForTransactionReceipt(txn_hash)\n",
    "    print(f\"Transaction receipt: {txn_receipt}\")\n",
    "\n",
    "# Example usage\n",
    "farm_tokens()\n"
   ]
  }
 ],
 "metadata": {
  "kernelspec": {
   "display_name": "Python 3 (ipykernel)",
   "language": "python",
   "name": "python3"
  },
  "language_info": {
   "codemirror_mode": {
    "name": "ipython",
    "version": 3
   },
   "file_extension": ".py",
   "mimetype": "text/x-python",
   "name": "python",
   "nbconvert_exporter": "python",
   "pygments_lexer": "ipython3",
   "version": "3.10.2"
  }
 },
 "nbformat": 4,
 "nbformat_minor": 5
}
